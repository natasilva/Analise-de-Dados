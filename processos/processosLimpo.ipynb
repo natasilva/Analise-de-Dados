{
  "nbformat": 4,
  "nbformat_minor": 0,
  "metadata": {
    "colab": {
      "name": "processos.ipynb",
      "provenance": [],
      "collapsed_sections": []
    },
    "kernelspec": {
      "name": "python3",
      "display_name": "Python 3"
    },
    "language_info": {
      "name": "python"
    }
  },
  "cells": [
    {
      "cell_type": "markdown",
      "metadata": {
        "id": "1QIGIVoxAerM"
      },
      "source": [
        "Nesse arquivo estou limpando e organizando os dados de processos burocráticos de uma instituição pública. \n",
        "Além disso, também estou selecionando os registros através de três amostragens diferentes:\n",
        "*   Amostragem Simples\n",
        "*   Amostragem Sistemática\n",
        "*   Amostragem Estratificada\n",
        "\n"
      ]
    },
    {
      "cell_type": "code",
      "metadata": {
        "id": "dOSUe-1l3Qat"
      },
      "source": [
        "import numpy as np\n",
        "import pandas as pd"
      ],
      "execution_count": 88,
      "outputs": []
    },
    {
      "cell_type": "markdown",
      "metadata": {
        "id": "a8jKN82M47UF"
      },
      "source": [
        "**Limpeza dos dados**"
      ]
    },
    {
      "cell_type": "code",
      "metadata": {
        "id": "UXsvcVx83gtN"
      },
      "source": [
        "processos = pd.read_csv('/content/drive/MyDrive/A - Estatistica/dados sujos/processos2019.csv', sep=';', encoding='UTF-8')"
      ],
      "execution_count": 89,
      "outputs": []
    },
    {
      "cell_type": "code",
      "metadata": {
        "id": "XLWW2u6K4J7z"
      },
      "source": [
        "processos.head()"
      ],
      "execution_count": null,
      "outputs": []
    },
    {
      "cell_type": "code",
      "metadata": {
        "id": "SLysgLAt6Osw"
      },
      "source": [
        "processos1 = processos.drop(columns=['observacao'])"
      ],
      "execution_count": 3,
      "outputs": []
    },
    {
      "cell_type": "code",
      "metadata": {
        "id": "TVHh3sHP6r8-"
      },
      "source": [
        "processos1.head()"
      ],
      "execution_count": null,
      "outputs": []
    },
    {
      "cell_type": "code",
      "metadata": {
        "id": "pI22GAQZeVfq"
      },
      "source": [
        "processos2 = processos1.drop(columns=['ano'],)\n",
        "processos2.head()\n",
        "#O campo de ano foi excluído (visto que todos processos foram registrados em 2019)"
      ],
      "execution_count": null,
      "outputs": []
    },
    {
      "cell_type": "code",
      "metadata": {
        "id": "Qfww2kyNXwK_"
      },
      "source": [
        "processos_consulta = processos2.loc[processos2.tipo_processo == 'CONSULTA']\n",
        "processos_consulta.head()\n",
        "#Foram selecionados todos processos de consulta"
      ],
      "execution_count": null,
      "outputs": []
    },
    {
      "cell_type": "code",
      "metadata": {
        "id": "x55geZjGo0tr"
      },
      "source": [
        "consultas_corrigidas = processos_consulta.fillna(axis=0, method='ffill')\n",
        "consultas_corrigidas.head(10)\n",
        "#Todos valores vazios receberam o valor da linha anterior"
      ],
      "execution_count": null,
      "outputs": []
    },
    {
      "cell_type": "code",
      "metadata": {
        "id": "p8CLo_A23K4g"
      },
      "source": [
        "#Corrigindo os valores da coluna \"status\"\n",
        "consultas_corrigidas.loc[consultas_corrigidas['status'].str.contains('ATIVO'),'status']='ATIVO'\n",
        "consultas_corrigidas.loc[consultas_corrigidas['status'].str.contains('ARQUIVADO'),'status']='ARQUIVADO'\n",
        "consultas_corrigidas.loc[consultas_corrigidas['status'].str.contains('SOLICITADO CANCELAMENTO'),'status']='SOLICITADO CANCELAMENTO'\n",
        "consultas_corrigidas.loc[consultas_corrigidas['status'].str.contains('ABERTO'),'status']='ABERTO'\n",
        "consultas_corrigidas.loc[consultas_corrigidas['status'].str.contains('EM TRAMITE EXTERNO'),'status']='EM TRAMITE EXTERNO'"
      ],
      "execution_count": 103,
      "outputs": []
    },
    {
      "cell_type": "markdown",
      "metadata": {
        "id": "taPOXiNG5Cb8"
      },
      "source": [
        "**1-Amostragem simples**"
      ]
    },
    {
      "cell_type": "code",
      "metadata": {
        "id": "nsjcRL855G5d"
      },
      "source": [
        "consultas1 = consultas_corrigidas.sample(70) #Seleciona 70 registros aleatórios\n",
        "consultas1.head()"
      ],
      "execution_count": null,
      "outputs": []
    },
    {
      "cell_type": "markdown",
      "metadata": {
        "id": "cjSCtkOuA7dL"
      },
      "source": [
        "**2-Amostragem Sistemática**"
      ]
    },
    {
      "cell_type": "code",
      "metadata": {
        "id": "lLtj3NonBC67"
      },
      "source": [
        "inicio = np.random.choice(10,1)  \n",
        "passo = np.random.randint(1,10,1)"
      ],
      "execution_count": 30,
      "outputs": []
    },
    {
      "cell_type": "code",
      "metadata": {
        "colab": {
          "base_uri": "https://localhost:8080/"
        },
        "id": "I9xxWAl3Cnkf",
        "outputId": "ada00397-75e5-44e1-91d1-dab625229d94"
      },
      "source": [
        "amostra = np.arange(inicio, 70, passo)\n",
        "amostra"
      ],
      "execution_count": 31,
      "outputs": [
        {
          "output_type": "execute_result",
          "data": {
            "text/plain": [
              "array([ 5, 12, 19, 26, 33, 40, 47, 54, 61, 68])"
            ]
          },
          "metadata": {
            "tags": []
          },
          "execution_count": 31
        }
      ]
    },
    {
      "cell_type": "code",
      "metadata": {
        "id": "vdAN9QluDXRW"
      },
      "source": [
        "consultas2 = consultas_corrigidas.iloc[amostra,:] \n",
        "consultas2.head()"
      ],
      "execution_count": null,
      "outputs": []
    },
    {
      "cell_type": "markdown",
      "metadata": {
        "id": "v-B8ImVkEJmd"
      },
      "source": [
        "**3-Amostragem Estratificada**"
      ]
    },
    {
      "cell_type": "code",
      "metadata": {
        "id": "u1139Ool1Bkk"
      },
      "source": [
        "#Separando porcentagens de linhas baseando-se em status\n",
        "ativo = consultas_corrigidas.loc[consultas_corrigidas['status'] == 'ATIVO'].sample(frac=0.50)\n",
        "arquivado = consultas_corrigidas.loc[consultas_corrigidas['status'] == 'ARQUIVADO'].sample(frac=0.50)\n",
        "cancelamento = consultas_corrigidas.loc[consultas_corrigidas['status'] == 'SOLICITADO CANCELAMENTO'].sample(frac=0.60)\n",
        "aberto = consultas_corrigidas.loc[consultas_corrigidas['status'] == 'ABERTO'].sample(frac=0.50)\n",
        "tramite = consultas_corrigidas.loc[consultas_corrigidas['status'] == 'EM TRAMITE EXTERNO']"
      ],
      "execution_count": 107,
      "outputs": []
    },
    {
      "cell_type": "code",
      "metadata": {
        "id": "OthiFkmuENNs"
      },
      "source": [
        "#juntando todos registros num só dataframe\n",
        "consultas3 = pd.concat([ativo, arquivado, cancelamento, aberto, tramite])"
      ],
      "execution_count": 108,
      "outputs": []
    },
    {
      "cell_type": "code",
      "metadata": {
        "id": "fKFrLPw-f6pK"
      },
      "source": [
        "consultas3.head()"
      ],
      "execution_count": null,
      "outputs": []
    }
  ]
}